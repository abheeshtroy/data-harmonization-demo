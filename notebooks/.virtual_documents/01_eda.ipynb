import pandas as pd
import matplotlib.pyplot as plt

# Load the CSV
df = pd.read_csv("../data/AB_NYC_2019.csv")


df.shape            # rows × columns
df.info()           # types & non-null counts
df.head(5)          # first few rows


df.isnull().sum().sort_values(ascending=False)


# neighbourhood_group
df['neighbourhood_group'].value_counts().plot.bar(title="Listings by Borough")
plt.show()

# room_type
df['room_type'].value_counts().plot.pie(
    autopct="%.1f%%", title="Room Type Breakdown"
)
plt.show()


df['price'].describe()

# Histogram of price (clip out extreme outliers)
df['price'].clip(upper=500).hist(bins=50)
plt.title("Price Distribution (capped at $500)")
plt.xlabel("Price ($)")
plt.ylabel("Count")
plt.show()


df.plot.scatter(
    x='longitude', y='latitude',
    alpha=0.3, s=5, title="Listing Locations"
)
plt.show()



